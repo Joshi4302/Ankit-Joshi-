{
 "cells": [
  {
   "cell_type": "code",
   "execution_count": null,
   "id": "b2e977f9-a6e1-4f78-9007-d23127abc381",
   "metadata": {},
   "outputs": [],
   "source": [
    "# Q.11 Write a  Python program to print the documents (syntax, description etc.) of Python built-in function(s).\n",
    "Sample function : abs()\n",
    "Expected Result :\n",
    "abs(number) -> number\n",
    "Return the absolute value of the argument."
   ]
  },
  {
   "cell_type": "code",
   "execution_count": 1,
   "id": "384db20f-71d8-41c0-822c-1ba8129ab1a0",
   "metadata": {},
   "outputs": [
    {
     "name": "stdout",
     "output_type": "stream",
     "text": [
      "Return the absolute value of the argument.\n"
     ]
    }
   ],
   "source": [
    "\n",
    "print(abs.__doc__)"
   ]
  },
  {
   "cell_type": "code",
   "execution_count": null,
   "id": "22f335af-e7bf-4af8-92a5-d4d0218ff39e",
   "metadata": {},
   "outputs": [],
   "source": [
    "# Q.12 Write a  Python program that prints the calendar for a given month and year.\n",
    "Note : Use 'calendar' module."
   ]
  },
  {
   "cell_type": "code",
   "execution_count": 2,
   "id": "f4d1b16b-3cba-4196-a30a-8a863186859a",
   "metadata": {},
   "outputs": [
    {
     "name": "stdin",
     "output_type": "stream",
     "text": [
      "Input the year :  2024\n",
      "Input the month :  6\n"
     ]
    },
    {
     "name": "stdout",
     "output_type": "stream",
     "text": [
      "     June 2024\n",
      "Mo Tu We Th Fr Sa Su\n",
      "                1  2\n",
      " 3  4  5  6  7  8  9\n",
      "10 11 12 13 14 15 16\n",
      "17 18 19 20 21 22 23\n",
      "24 25 26 27 28 29 30\n",
      "\n"
     ]
    }
   ],
   "source": [
    "\n",
    "import calendar\n",
    "\n",
    "\n",
    "y = int(input(\"Input the year : \"))\n",
    "m = int(input(\"Input the month : \"))\n",
    "\n",
    "\n",
    "print(calendar.month(y, m))\n",
    "\n"
   ]
  },
  {
   "cell_type": "code",
   "execution_count": null,
   "id": "90248484-6b62-4d7b-83fe-d2ffa9375d1d",
   "metadata": {},
   "outputs": [],
   "source": [
    "# Q,13 Write a Python program to print the following 'here document'.\n",
    "Sample string :\n",
    "a string that you \"don't\" have to escape\n",
    "This\n",
    "is a ....... multi-line\n",
    "heredoc string --------> example"
   ]
  },
  {
   "cell_type": "code",
   "execution_count": 3,
   "id": "ebe1d017-2190-4183-9814-ef89a00c37f4",
   "metadata": {},
   "outputs": [
    {
     "name": "stdout",
     "output_type": "stream",
     "text": [
      "\n",
      "a string that you \"don't\" have to escape\n",
      "This\n",
      "is a  ....... multi-line\n",
      "heredoc string --------> example\n",
      "\n"
     ]
    }
   ],
   "source": [
    "\n",
    "print(\"\"\"\n",
    "a string that you \"don't\" have to escape\n",
    "This\n",
    "is a  ....... multi-line\n",
    "heredoc string --------> example\n",
    "\"\"\")\n"
   ]
  },
  {
   "cell_type": "code",
   "execution_count": null,
   "id": "0cc00c0b-fd4b-41cd-8603-09e733107aef",
   "metadata": {},
   "outputs": [],
   "source": [
    "# .14 Write a Python program to calculate the number of days between two dates.\n",
    "Sample dates : (2014, 7, 2), (2014, 7, 11)"
   ]
  },
  {
   "cell_type": "code",
   "execution_count": 4,
   "id": "9ad7c6ac-c98f-4eb7-91ef-afb27ae83451",
   "metadata": {},
   "outputs": [
    {
     "name": "stdout",
     "output_type": "stream",
     "text": [
      "9\n"
     ]
    }
   ],
   "source": [
    "\n",
    "from datetime import date\n",
    "\n",
    "# Define a start date as July 2, 2014\n",
    "f_date = date(2014, 7, 2)\n",
    "\n",
    "# Define an end date as July 11, 2014\n",
    "l_date = date(2014, 7, 11)\n",
    "\n",
    "# Calculate the difference between the end date and start date\n",
    "delta = l_date - f_date\n",
    "\n",
    "\n",
    "print(delta.days)"
   ]
  },
  {
   "cell_type": "code",
   "execution_count": null,
   "id": "5479546d-c036-4350-9905-f2bed653a983",
   "metadata": {},
   "outputs": [],
   "source": [
    "# Q.15  Write a  Python program to get the volume of a sphere with radius six."
   ]
  },
  {
   "cell_type": "code",
   "execution_count": 5,
   "id": "ec6ad958-088f-438e-b6b2-2006757e5236",
   "metadata": {},
   "outputs": [
    {
     "name": "stdout",
     "output_type": "stream",
     "text": [
      "The volume of the sphere is:  904.7786842338603\n"
     ]
    }
   ],
   "source": [
    "\n",
    "pi = 3.1415926535897931\n",
    "\n",
    "# Define the radius of the sphere\n",
    "r = 6.0\n",
    "\n",
    "# Calculate the volume of the sphere using the formula\n",
    "V = 4.0/3.0 * pi * r**3\n",
    "\n",
    "\n",
    "print('The volume of the sphere is: ', V)\n",
    "\n"
   ]
  },
  {
   "cell_type": "code",
   "execution_count": null,
   "id": "695eeea4-ae17-4fd8-bd89-ead04a9c3a8d",
   "metadata": {},
   "outputs": [],
   "source": [
    "# Q.16Write a Python program to calculate the difference between a given number and 17. \n",
    "If the number is greater than 17, return twice the absolute difference."
   ]
  },
  {
   "cell_type": "code",
   "execution_count": 6,
   "id": "3e5c9069-48dd-42f8-813e-56bd5140b2bd",
   "metadata": {},
   "outputs": [
    {
     "name": "stdout",
     "output_type": "stream",
     "text": [
      "10\n",
      "3\n"
     ]
    }
   ],
   "source": [
    "\n",
    "def difference(n):\n",
    "    # Check if n is less than or equal to 17\n",
    "    if n <= 17:\n",
    "        # If n is less than or equal to 17, return the absolute difference between 17 and n\n",
    "        return 17 - n\n",
    "    else:\n",
    "        # If n is greater than 17, return the absolute difference between n and 17 multiplied by 2\n",
    "        return (n - 17) * 2\n",
    "\n",
    "\n",
    "print(difference(22))\n",
    "\n",
    "\n",
    "print(difference(14))"
   ]
  },
  {
   "cell_type": "code",
   "execution_count": null,
   "id": "3b27ccd0-aea9-40e2-8cd1-74c8f08bed80",
   "metadata": {},
   "outputs": [],
   "source": [
    "# Q.17 Write a  Python program to test whether a number is within 100 of 1000 or 2000."
   ]
  },
  {
   "cell_type": "code",
   "execution_count": 7,
   "id": "1e5d60cd-f591-48d3-a2fe-d78d9ab80641",
   "metadata": {},
   "outputs": [
    {
     "name": "stdout",
     "output_type": "stream",
     "text": [
      "True\n",
      "True\n",
      "False\n",
      "False\n"
     ]
    }
   ],
   "source": [
    "\n",
    "def near_thousand(n):\n",
    "    # Check if the absolute difference between 1000 and n is less than or equal to 100\n",
    "    # OR check if the absolute difference between 2000 and n is less than or equal to 100\n",
    "    return ((abs(1000 - n) <= 100) or (abs(2000 - n) <= 100))\n",
    "\n",
    "# Call the \"near_thousand\" function with the argument 1000 and print the result\n",
    "print(near_thousand(1000))\n",
    "\n",
    "# Call the \"near_thousand\" function with the argument 900 and print the result\n",
    "print(near_thousand(900))\n",
    "\n",
    "# Call the \"near_thousand\" function with the argument 800 and print the result\n",
    "print(near_thousand(800))\n",
    "\n",
    "# Call the \"near_thousand\" function with the argument 2200 and print the result\n",
    "print(near_thousand(2200))"
   ]
  },
  {
   "cell_type": "code",
   "execution_count": null,
   "id": "3827f7cc-fdf5-4b81-b190-fb535c6967e1",
   "metadata": {},
   "outputs": [],
   "source": [
    "# Q.18 Write a Python program to calculate the sum of three given numbers. If the values are equal, return three times their sum."
   ]
  },
  {
   "cell_type": "code",
   "execution_count": 8,
   "id": "ba2ecb42-dc6d-4960-9d52-f9cd27450ade",
   "metadata": {},
   "outputs": [
    {
     "name": "stdout",
     "output_type": "stream",
     "text": [
      "6\n",
      "27\n"
     ]
    }
   ],
   "source": [
    "# Define a function named \"sum_thrice\" that takes three integer parameters: x, y, and z\n",
    "def sum_thrice(x, y, z):\n",
    "    # Calculate the sum of x, y, and z\n",
    "    sum = x + y + z\n",
    "\n",
    "    # Check if x, y, and z are all equal (all three numbers are the same)\n",
    "    if x == y == z:\n",
    "        # If they are equal, triple the sum\n",
    "        sum = sum * 3\n",
    "\n",
    "    # Return the final sum\n",
    "    return sum\n",
    "\n",
    "# Call the \"sum_thrice\" function with the arguments (1, 2, 3) and print the result\n",
    "print(sum_thrice(1, 2, 3))\n",
    "\n",
    "# Call the \"sum_thrice\" function with the arguments (3, 3, 3) and print the result\n",
    "print(sum_thrice(3, 3, 3))"
   ]
  },
  {
   "cell_type": "code",
   "execution_count": null,
   "id": "23fd7841-d607-42f4-9679-23658daff3ff",
   "metadata": {},
   "outputs": [],
   "source": [
    "# Q.19 Write a Python program to get a newly-generated string from a given string where\n",
    "\"Is\" has been added to the front. Return the string unchanged if the given string already begins with \"Is\"."
   ]
  },
  {
   "cell_type": "code",
   "execution_count": 9,
   "id": "8ae253bb-e7c6-4bb7-ab6a-0eea936c37b9",
   "metadata": {},
   "outputs": [
    {
     "name": "stdout",
     "output_type": "stream",
     "text": [
      "IsArray\n",
      "IsEmpty\n"
     ]
    }
   ],
   "source": [
    "\n",
    "def new_string(text):\n",
    "    \n",
    "    if len(text) >= 2 and text[:2] == \"Is\":\n",
    "       \n",
    "        return text\n",
    "    else:\n",
    "       \n",
    "        return \"Is\" + text\n",
    "\n",
    "\n",
    "print(new_string(\"Array\"))\n",
    "\n",
    "\n",
    "print(new_string(\"IsEmpty\"))\n"
   ]
  },
  {
   "cell_type": "code",
   "execution_count": null,
   "id": "2351ef19-f996-495b-87dd-a3cd2c743431",
   "metadata": {},
   "outputs": [],
   "source": [
    "# Q.20 Write a  Python program that returns a string that is n (non-negative integer) copies of a given string."
   ]
  },
  {
   "cell_type": "code",
   "execution_count": 10,
   "id": "96980fde-4f77-40dd-9ff6-ff4bf489608d",
   "metadata": {},
   "outputs": [
    {
     "name": "stdout",
     "output_type": "stream",
     "text": [
      "abcabc\n",
      ".py.py.py\n"
     ]
    }
   ],
   "source": [
    "\n",
    "def larger_string(text, n):\n",
    "    \n",
    "    result = \"\"\n",
    "\n",
    "   \n",
    "    for i in range(n):\n",
    "        result = result + text\n",
    "\n",
    "   \n",
    "    return result\n",
    "\n",
    "\n",
    "print(larger_string('abc', 2))\n",
    "\n",
    "\n",
    "print(larger_string('.py', 3))"
   ]
  },
  {
   "cell_type": "code",
   "execution_count": null,
   "id": "7cf09182-cff4-4285-9602-475c010d9b7c",
   "metadata": {},
   "outputs": [],
   "source": []
  }
 ],
 "metadata": {
  "kernelspec": {
   "display_name": "Python 3 (ipykernel)",
   "language": "python",
   "name": "python3"
  },
  "language_info": {
   "codemirror_mode": {
    "name": "ipython",
    "version": 3
   },
   "file_extension": ".py",
   "mimetype": "text/x-python",
   "name": "python",
   "nbconvert_exporter": "python",
   "pygments_lexer": "ipython3",
   "version": "3.11.7"
  }
 },
 "nbformat": 4,
 "nbformat_minor": 5
}
