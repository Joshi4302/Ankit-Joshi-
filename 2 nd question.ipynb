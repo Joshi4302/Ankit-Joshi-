{
 "cells": [
  {
   "cell_type": "code",
   "execution_count": 8,
   "id": "8f5cd74c-31f6-4b82-b2de-7c0bd16e6c2f",
   "metadata": {},
   "outputs": [
    {
     "name": "stdout",
     "output_type": "stream",
     "text": [
      "Testing factorial calculations:\n",
      "0! (recursive): 1, 0! (iterative): 1\n",
      "1! (recursive): 1, 1! (iterative): 1\n",
      "2! (recursive): 2, 2! (iterative): 2\n",
      "3! (recursive): 6, 3! (iterative): 6\n",
      "4! (recursive): 24, 4! (iterative): 24\n",
      "5! (recursive): 120, 5! (iterative): 120\n",
      "6! (recursive): 720, 6! (iterative): 720\n"
     ]
    }
   ],
   "source": [
    "\n",
    "def mysterious_function(n):\n",
    "    if n <= 1:\n",
    "        return 1\n",
    "    return n * mysterious_function(n - 1)\n",
    "def factorial_iterative(n):\n",
    "    result = 1\n",
    "    for i in range(2, n + 1):\n",
    "        result *= i\n",
    "    return result\n",
    "test_values = [0, 1, 2, 3, 4, 5, 6]\n",
    "\n",
    "print(\"Testing factorial calculations:\")\n",
    "for value in test_values:\n",
    "    recursive_result = mysterious_function(value)\n",
    "    iterative_result = factorial_iterative(value)\n",
    "    print(f\"{value}! (recursive): {recursive_result}, {value}! (iterative): {iterative_result}\")"
   ]
  },
  {
   "cell_type": "code",
   "execution_count": 4,
   "id": "9d08276c-e106-4b15-8c9d-156c6620b9be",
   "metadata": {},
   "outputs": [],
   "source": []
  },
  {
   "cell_type": "code",
   "execution_count": null,
   "id": "887918be-3f44-4719-a55f-5cdae4172b22",
   "metadata": {},
   "outputs": [],
   "source": []
  }
 ],
 "metadata": {
  "kernelspec": {
   "display_name": "Python 3 (ipykernel)",
   "language": "python",
   "name": "python3"
  },
  "language_info": {
   "codemirror_mode": {
    "name": "ipython",
    "version": 3
   },
   "file_extension": ".py",
   "mimetype": "text/x-python",
   "name": "python",
   "nbconvert_exporter": "python",
   "pygments_lexer": "ipython3",
   "version": "3.11.7"
  }
 },
 "nbformat": 4,
 "nbformat_minor": 5
}
