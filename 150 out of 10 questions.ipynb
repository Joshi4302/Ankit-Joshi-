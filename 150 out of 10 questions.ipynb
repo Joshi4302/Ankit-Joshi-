{
 "cells": [
  {
   "cell_type": "code",
   "execution_count": null,
   "id": "7bc98c0d-a0f0-4d4b-9bd1-32d8e07ebad2",
   "metadata": {},
   "outputs": [],
   "source": [
    "# question 1.\n",
    "Write a  Python program to print the following string in a specific format (see the output).\n",
    "Sample String : \"Twinkle, twinkle, little star, How I wonder what you are! Up above the world so high, Like a diamond in the sky. Twinkle, twinkle, little star, How I wonder what you are\"\n",
    "Output :\n",
    "\n",
    "Twinkle, twinkle, little star,\n",
    "\tHow I wonder what you are! \n",
    "\t\tUp above the world so high,   \t\t\n",
    "\t\tLike a diamond in the sky. \n",
    "Twinkle, twinkle, little star, \n",
    "\tHow I wonder what you are"
   ]
  },
  {
   "cell_type": "code",
   "execution_count": 1,
   "id": "2d3482dc-65c7-4be8-8ded-9604f5738675",
   "metadata": {},
   "outputs": [
    {
     "name": "stdout",
     "output_type": "stream",
     "text": [
      "Twinkle, twinkle, little star, \n",
      "\tHow I wonder what you are! \n",
      "\t\tUp above the world so high, \n",
      "\t\tLike a diamond in the sky. \n",
      "Twinkle, twinkle, little star, \n",
      "\tHow I wonder what you are!\n"
     ]
    }
   ],
   "source": [
    "print(\"Twinkle, twinkle, little star, \\n\\tHow I wonder what you are! \\n\\t\\tUp above the world so high, \\n\\t\\tLike a diamond in the sky. \\nTwinkle, twinkle, little star, \\n\\tHow I wonder what you are!\")\n"
   ]
  },
  {
   "cell_type": "code",
   "execution_count": null,
   "id": "1b43eb78-1afd-4d89-836d-77281b98f666",
   "metadata": {},
   "outputs": [],
   "source": [
    "# question.2\n",
    "Write a  Python program to find out what version of Python you are using."
   ]
  },
  {
   "cell_type": "code",
   "execution_count": 2,
   "id": "5d76e6ca-dc40-4964-9e0b-28c1fe5300d8",
   "metadata": {},
   "outputs": [
    {
     "name": "stdout",
     "output_type": "stream",
     "text": [
      "Python version\n",
      "3.11.7 | packaged by Anaconda, Inc. | (main, Dec 15 2023, 18:05:47) [MSC v.1916 64 bit (AMD64)]\n",
      "Version info.\n",
      "sys.version_info(major=3, minor=11, micro=7, releaselevel='final', serial=0)\n"
     ]
    }
   ],
   "source": [
    "import sys  # Import the sys module to access system-specific parameters and functions\n",
    "\n",
    "# Print the Python version to the console\n",
    "print(\"Python version\")\n",
    "\n",
    "# Use the sys.version attribute to get the Python version and print it\n",
    "print(sys.version)\n",
    "\n",
    "# Print information about the Python version\n",
    "print(\"Version info.\")\n",
    "\n",
    "# Use the sys.version_info attribute to get detailed version information and print it\n",
    "print(sys.version_info)\n"
   ]
  },
  {
   "cell_type": "code",
   "execution_count": null,
   "id": "d819171d-5c4a-450c-97e8-bb920726beb7",
   "metadata": {},
   "outputs": [],
   "source": [
    "Write a  Python program to display the current date and time."
   ]
  },
  {
   "cell_type": "code",
   "execution_count": 3,
   "id": "b8d695db-c5f8-445f-8e21-581bcfa7ec5f",
   "metadata": {},
   "outputs": [
    {
     "name": "stdout",
     "output_type": "stream",
     "text": [
      "Current date and time : \n",
      "2024-06-26 09:23:39\n"
     ]
    }
   ],
   "source": [
    "# Import the 'datetime' module to work with date and time\n",
    "import datetime\n",
    "\n",
    "# Get the current date and time\n",
    "now = datetime.datetime.now()\n",
    "\n",
    "# Create a datetime object representing the current date and time\n",
    "\n",
    "# Display a message indicating what is being printed\n",
    "print(\"Current date and time : \")\n",
    "\n",
    "# Print the current date and time in a specific format\n",
    "print(now.strftime(\"%Y-%m-%d %H:%M:%S\"))\n"
   ]
  },
  {
   "cell_type": "code",
   "execution_count": null,
   "id": "a9956fca-747a-49ab-a063-c419efe004e5",
   "metadata": {},
   "outputs": [],
   "source": [
    "Write a  Python program that calculates the area of a circle based on the radius entered by the user."
   ]
  },
  {
   "cell_type": "code",
   "execution_count": 4,
   "id": "34ec6f7c-de9e-43fa-a716-f9dc9dc21eb9",
   "metadata": {},
   "outputs": [
    {
     "name": "stdin",
     "output_type": "stream",
     "text": [
      "Input the radius of the circle :  25\n"
     ]
    },
    {
     "name": "stdout",
     "output_type": "stream",
     "text": [
      "The area of the circle with radius 25.0 is: 1963.4954084936207\n"
     ]
    }
   ],
   "source": [
    "# Import the 'pi' constant from the 'math' module to calculate the area of a circle\n",
    "from math import pi\n",
    "\n",
    "# Prompt the user to input the radius of the circle\n",
    "r = float(input(\"Input the radius of the circle : \"))\n",
    "\n",
    "# Calculate the area of the circle using the formula: area = π * r^2\n",
    "area = pi * r ** 2\n",
    "\n",
    "# Display the result, including the radius and calculated area\n",
    "print(\"The area of the circle with radius \" + str(r) + \" is: \" + str(area))\n"
   ]
  },
  {
   "cell_type": "code",
   "execution_count": null,
   "id": "5cebfbf1-5a3d-4a35-a7f7-9f039e1df720",
   "metadata": {},
   "outputs": [],
   "source": [
    "Write a  Python program that accepts the user's first and last name and prints them in reverse order with a space between them."
   ]
  },
  {
   "cell_type": "code",
   "execution_count": 5,
   "id": "5ba31e69-71c0-4183-bf0d-7806e7c3f7b0",
   "metadata": {},
   "outputs": [
    {
     "name": "stdin",
     "output_type": "stream",
     "text": [
      "Input your First Name :  ankit\n",
      "Input your Last Name :  joshi\n"
     ]
    },
    {
     "name": "stdout",
     "output_type": "stream",
     "text": [
      "Hello  joshi ankit\n"
     ]
    }
   ],
   "source": [
    "# Prompt the user to input their first name and store it in the 'fname' variable\n",
    "fname = input(\"Input your First Name : \")\n",
    "\n",
    "# Prompt the user to input their last name and store it in the 'lname' variable\n",
    "lname = input(\"Input your Last Name : \")\n",
    "\n",
    "# Display a greeting message with the last name followed by the first name\n",
    "print(\"Hello  \" + lname + \" \" + fname)\n"
   ]
  },
  {
   "cell_type": "code",
   "execution_count": null,
   "id": "e330ac70-b829-449f-8200-791739d2992d",
   "metadata": {},
   "outputs": [],
   "source": [
    "Write a Python program that accepts a sequence of comma-separated numbers from the user and generates a list and a tuple of those numbers."
   ]
  },
  {
   "cell_type": "code",
   "execution_count": 6,
   "id": "a78e90df-36f3-4e43-9035-affd5d556313",
   "metadata": {},
   "outputs": [
    {
     "name": "stdin",
     "output_type": "stream",
     "text": [
      "Input some comma-separated numbers:  4\n"
     ]
    },
    {
     "name": "stdout",
     "output_type": "stream",
     "text": [
      "List :  ['4']\n",
      "Tuple :  ('4',)\n"
     ]
    }
   ],
   "source": [
    "# Prompt the user to input a sequence of comma-separated numbers and store it in the 'values' variable\n",
    "values = input(\"Input some comma-separated numbers: \")\n",
    "\n",
    "# Split the 'values' string into a list using commas as separators and store it in the 'list' variable\n",
    "list = values.split(\",\")\n",
    "\n",
    "# Convert the 'list' into a tuple and store it in the 'tuple' variable\n",
    "tuple = tuple(list)\n",
    "\n",
    "# Print the list\n",
    "print('List : ', list)\n",
    "\n",
    "# Print the tuple\n",
    "print('Tuple : ', tuple)"
   ]
  },
  {
   "cell_type": "code",
   "execution_count": null,
   "id": "b142b34d-1d5a-4f19-81c1-e5d06e583728",
   "metadata": {},
   "outputs": [],
   "source": [
    "Write a  Python program that accepts a filename from the user and prints the extension of the file."
   ]
  },
  {
   "cell_type": "code",
   "execution_count": 7,
   "id": "ab16bb1c-9e0e-48e1-b523-1ee32a071c66",
   "metadata": {},
   "outputs": [
    {
     "name": "stdin",
     "output_type": "stream",
     "text": [
      "Input the Filename:  aj\n"
     ]
    },
    {
     "name": "stdout",
     "output_type": "stream",
     "text": [
      "The extension of the file is : 'aj'\n"
     ]
    }
   ],
   "source": [
    "# Prompt the user to input a filename and store it in the 'filename' variable\n",
    "filename = input(\"Input the Filename: \")\n",
    "\n",
    "# Split the 'filename' string into a list using the period (.) as a separator and store it in the 'f_extns' variable\n",
    "f_extns = filename.split(\".\")\n",
    "\n",
    "# Print the extension of the file, which is the last element in the 'f_extns' list\n",
    "print(\"The extension of the file is : \" + repr(f_extns[-1]))"
   ]
  },
  {
   "cell_type": "code",
   "execution_count": null,
   "id": "99c01727-31ab-4f74-b371-16e62a71f04c",
   "metadata": {},
   "outputs": [],
   "source": [
    "Write a  Python program to display the first and last colors from the following list.\n",
    "color_list = [\"Red\",\"Green\",\"White\" ,\"Black\"]"
   ]
  },
  {
   "cell_type": "code",
   "execution_count": 8,
   "id": "76ccbdbf-b0f1-407c-841b-d24d3988e1f0",
   "metadata": {},
   "outputs": [
    {
     "name": "stdout",
     "output_type": "stream",
     "text": [
      "Red Black\n"
     ]
    }
   ],
   "source": [
    "# Create a list called 'color_list' containing color names\n",
    "color_list = [\"Red\", \"Green\", \"White\", \"Black\"]\n",
    "# Print the first and last elements of the 'color_list' using string formatting\n",
    "# The '%s' placeholders are filled with the values of 'color_list[0]' (Red) and 'color_list[-1]' (Black)\n",
    "print(\"%s %s\" % (color_list[0], color_list[-1]))"
   ]
  },
  {
   "cell_type": "code",
   "execution_count": null,
   "id": "e4268f0b-7837-4a45-beed-17fb9558c08d",
   "metadata": {},
   "outputs": [],
   "source": [
    " Write a Python program to display the examination schedule. (extract the date from exam_st_date).\n",
    "exam_st_date = (11, 12, 2014)"
   ]
  },
  {
   "cell_type": "code",
   "execution_count": 9,
   "id": "55b057ad-1433-455b-ac01-167e6be008ec",
   "metadata": {},
   "outputs": [
    {
     "name": "stdout",
     "output_type": "stream",
     "text": [
      "The examination will start from : 11 / 12 / 2014\n"
     ]
    }
   ],
   "source": [
    "# Define a tuple called 'exam_st_date' containing the exam start date in the format (day, month, year)\n",
    "exam_st_date = (11, 12, 2014)\n",
    "\n",
    "# Print the exam start date using string formatting\n",
    "# The '%i' placeholders are filled with the values from the 'exam_st_date' tuple\n",
    "print(\"The examination will start from : %i / %i / %i\" % exam_st_date)"
   ]
  },
  {
   "cell_type": "code",
   "execution_count": null,
   "id": "06402452-82c2-449c-a3d1-bc8f6da8b28f",
   "metadata": {},
   "outputs": [],
   "source": [
    " Write a Python program that accepts an integer (n) and computes the value of n+nn+nnn.\n",
    "Sample value of n is 5"
   ]
  },
  {
   "cell_type": "code",
   "execution_count": 11,
   "id": "d552396c-60fa-4894-86bb-1ae31952087e",
   "metadata": {},
   "outputs": [
    {
     "name": "stdin",
     "output_type": "stream",
     "text": [
      "Input an integer:  5\n"
     ]
    },
    {
     "name": "stdout",
     "output_type": "stream",
     "text": [
      "615\n"
     ]
    }
   ],
   "source": [
    "# Prompt the user to input an integer and store it in the variable 'a'\n",
    "a = int(input(\"Input an integer: \"))\n",
    "\n",
    "# Create new integers 'n1', 'n2', and 'n3' by concatenating 'a' with itself one, two, and three times, respectively\n",
    "n1 = int(\"%s\" % a)          # Convert 'a' to an integer\n",
    "n2 = int(\"%s%s\" % (a, a))   # Concatenate 'a' with itself and convert to an integer\n",
    "n3 = int(\"%s%s%s\" % (a, a, a))  # Concatenate 'a' with itself twice and convert to an integer\n",
    "\n",
    "# Calculate the sum of 'n1', 'n2', and 'n3' and print the result\n",
    "print(n1 + n2 + n3)"
   ]
  },
  {
   "cell_type": "code",
   "execution_count": null,
   "id": "982445f6-c9e6-43bc-afb0-5687fe5bb242",
   "metadata": {},
   "outputs": [],
   "source": []
  }
 ],
 "metadata": {
  "kernelspec": {
   "display_name": "Python 3 (ipykernel)",
   "language": "python",
   "name": "python3"
  },
  "language_info": {
   "codemirror_mode": {
    "name": "ipython",
    "version": 3
   },
   "file_extension": ".py",
   "mimetype": "text/x-python",
   "name": "python",
   "nbconvert_exporter": "python",
   "pygments_lexer": "ipython3",
   "version": "3.11.7"
  }
 },
 "nbformat": 4,
 "nbformat_minor": 5
}
