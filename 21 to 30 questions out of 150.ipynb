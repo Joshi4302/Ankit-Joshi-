{
 "cells": [
  {
   "cell_type": "code",
   "execution_count": null,
   "id": "7927f45b-b4cf-40a7-ae97-8251a09957ff",
   "metadata": {},
   "outputs": [],
   "source": [
    " # 21. Write a Python program that determines whether a given number (accepted from the user) is even or odd,\n",
    "# and prints an appropriate message to the user.\n"
   ]
  },
  {
   "cell_type": "code",
   "execution_count": 1,
   "id": "22b56f91-b668-4867-8e65-22332d653742",
   "metadata": {},
   "outputs": [
    {
     "name": "stdin",
     "output_type": "stream",
     "text": [
      "Enter a number:  22\n"
     ]
    },
    {
     "name": "stdout",
     "output_type": "stream",
     "text": [
      "This is an even number.\n"
     ]
    }
   ],
   "source": [
    "num = int(input(\"Enter a number: \"))\n",
    "\n",
    "\n",
    "mod = num % 2\n",
    "\n",
    "\n",
    "if mod > 0:\n",
    "    \n",
    "    print(\"This is an odd number.\")\n",
    "else:\n",
    "   \n",
    "    print(\"This is an even number.\")"
   ]
  },
  {
   "cell_type": "code",
   "execution_count": null,
   "id": "c413df99-65f6-4498-9b21-63842520ef10",
   "metadata": {},
   "outputs": [],
   "source": [
    "# 22. Write a  Python program to count the number 4 in a given list."
   ]
  },
  {
   "cell_type": "code",
   "execution_count": 2,
   "id": "f87a1ec6-aa8d-4736-8349-e39ca6ae6517",
   "metadata": {},
   "outputs": [
    {
     "name": "stdout",
     "output_type": "stream",
     "text": [
      "2\n",
      "3\n"
     ]
    }
   ],
   "source": [
    "def list_count_4(nums):\n",
    "  \n",
    "  count = 0\n",
    "\n",
    " \n",
    "  for num in nums:\n",
    "   \n",
    "    if num == 4:\n",
    "     \n",
    "      count = count + 1\n",
    "\n",
    " \n",
    "  return count\n",
    "\n",
    "\n",
    "print(list_count_4([1, 4, 6, 7, 4]))  \n",
    "print(list_count_4([1, 4, 6, 4, 7, 4]))  \n"
   ]
  },
  {
   "cell_type": "code",
   "execution_count": null,
   "id": "8fa7e95e-4576-4ed4-a32b-10329371e5bb",
   "metadata": {},
   "outputs": [],
   "source": [
    "# 23. Write a Python program to get n (non-negative integer) copies of the first 2 characters of a given string.\n",
    " # Return n copies of the whole string if the length is less than 2."
   ]
  },
  {
   "cell_type": "code",
   "execution_count": 3,
   "id": "a63c0d07-ede3-4555-8487-08528b5032a8",
   "metadata": {},
   "outputs": [
    {
     "name": "stdout",
     "output_type": "stream",
     "text": [
      "abab\n",
      "ppp\n"
     ]
    }
   ],
   "source": [
    "def substring_copy(text, n):\n",
    " \n",
    "  flen = 2\n",
    "\n",
    " \n",
    "  if flen > len(text):\n",
    "  \n",
    "    flen = len(text)\n",
    "\n",
    "\n",
    "  substr = text[:flen]\n",
    "\n",
    " \n",
    "  result = \"\"\n",
    "\n",
    " \n",
    "  for i in range(n):\n",
    "    result = result + substr\n",
    "\n",
    " \n",
    "  return result\n",
    "\n",
    "\n",
    "print(substring_copy('abcdef', 2))  # Output: \"abab\" (substring \"ab\" repeated 2 times)\n",
    "print(substring_copy('p', 3))  # Output: \"pp\" (substring \"p\" repeated 3 times)"
   ]
  },
  {
   "cell_type": "code",
   "execution_count": null,
   "id": "243f753a-fa08-4923-a04b-d275ea9df72f",
   "metadata": {},
   "outputs": [],
   "source": [
    "# 24. Write a Python program to test whether a passed letter is a vowel or not."
   ]
  },
  {
   "cell_type": "code",
   "execution_count": 4,
   "id": "4fe16a2c-c81c-48c0-97cc-04fc72699d95",
   "metadata": {},
   "outputs": [
    {
     "name": "stdout",
     "output_type": "stream",
     "text": [
      "False\n",
      "True\n"
     ]
    }
   ],
   "source": [
    "\n",
    "def is_vowel(char):\n",
    "    \n",
    "    all_vowels = 'aeiou'\n",
    "\n",
    "    \n",
    "    return char in all_vowels\n",
    "\n",
    "\n",
    "print(is_vowel('c'))  \n",
    "print(is_vowel('e'))  "
   ]
  },
  {
   "cell_type": "code",
   "execution_count": null,
   "id": "2440536d-2b7c-4474-b337-2b29c5ea44ae",
   "metadata": {},
   "outputs": [],
   "source": [
    "# 25. Write a  Python program that checks whether a specified value is contained within a group of values.\n",
    "Test Data :\n",
    "3 -> [1, 5, 8, 3] : True\n",
    "-1 -> [1, 5, 8, 3] : False"
   ]
  },
  {
   "cell_type": "code",
   "execution_count": 5,
   "id": "5dc76e6f-29ae-40ee-9c45-ac856d65d865",
   "metadata": {},
   "outputs": [
    {
     "name": "stdout",
     "output_type": "stream",
     "text": [
      "True\n",
      "False\n"
     ]
    }
   ],
   "source": [
    "\n",
    "def is_group_member(group_data, n):\n",
    "   \n",
    "    for value in group_data:\n",
    "       \n",
    "        if n == value:\n",
    "            return True \n",
    "    return False \n",
    "\n",
    "\n",
    "print(is_group_member([1, 5, 8, 3], 3)) \n",
    "print(is_group_member([5, 8, 3], -1))    "
   ]
  },
  {
   "cell_type": "code",
   "execution_count": null,
   "id": "1db9cb1b-7b6b-468b-93bb-52844b9eadc4",
   "metadata": {},
   "outputs": [],
   "source": [
    "# Q.26 Write a  Python program to create a histogram from a given list of integers."
   ]
  },
  {
   "cell_type": "code",
   "execution_count": null,
   "id": "ead76b67-c643-4db1-a0a4-1a0f809a896a",
   "metadata": {},
   "outputs": [],
   "source": [
    "def histogram(items):\n",
    "    # Iterate through the items in the list.\n",
    "    for n in items:\n",
    "        output = ''  # Initialize an empty string called output.\n",
    "        times = n     # Set the times variable to the value of n.\n",
    "        \n",
    "        # Use a while loop to append '*' to the output string 'times' number of times.\n",
    "        while times > 0:\n",
    "            output += '*'\n",
    "            times = times - 1  # Decrement the times variable.\n",
    "        \n",
    "        # Print the resulting output string.\n",
    "        print(output)\n",
    "\n",
    "# Call the histogram function with a list of numbers and print the histogram.\n",
    "histogram([2, 3, 6, 5])"
   ]
  },
  {
   "cell_type": "code",
   "execution_count": null,
   "id": "721531e9-a321-4f6a-bc09-2a2c28272e74",
   "metadata": {},
   "outputs": [],
   "source": [
    "# .27 Write a Python program that concatenates all elements in a list into a string and returns it."
   ]
  },
  {
   "cell_type": "code",
   "execution_count": null,
   "id": "a377d08b-6b8d-4c07-a396-91f1c9984745",
   "metadata": {},
   "outputs": [],
   "source": [
    "# Define a function called concatenate_list_data that takes a list as a parameter.\n",
    "def concatenate_list_data(lst):\n",
    "    result = ''  # Initialize an empty string called result.\n",
    "    \n",
    "    # Iterate through the elements in the list.\n",
    "    for element in lst:\n",
    "        result += str(element)  # Convert each element to a string and concatenate it to the result.\n",
    "\n",
    "    return result  # Return the concatenated string.\n",
    "\n",
    "# Call the concatenate_list_data function with a list of numbers and print the result.\n",
    "print(concatenate_list_data([1, 5, 12, 2]))"
   ]
  },
  {
   "cell_type": "code",
   "execution_count": null,
   "id": "cbc6dfab-90e4-4b9f-9433-3e6c620dd93d",
   "metadata": {},
   "outputs": [],
   "source": [
    "# Q.28 Write a Python program to print all even numbers from a given list of numbers in the same order and stop printing any after 237 in the sequence"
   ]
  },
  {
   "cell_type": "code",
   "execution_count": null,
   "id": "bfc5b8ea-00b3-499b-afdf-c0fef7ef85ae",
   "metadata": {},
   "outputs": [],
   "source": [
    "# Define a list of numbers.\n",
    "numbers = [    \n",
    "    386, 462, 47, 418, 907, 344, 236, 375, 823, 566, 597, 978, 328, 615, 953, 345, \n",
    "    399, 162, 758, 219, 918, 237, 412, 566, 826, 248, 866, 950, 626, 949, 687, 217, \n",
    "    815, 67, 104, 58, 512, 24, 892, 894, 767, 553, 81, 379, 843, 831, 445, 742, 717, \n",
    "    958,743, 527\n",
    "]\n",
    "\n",
    "# Iterate through the numbers in the list.\n",
    "for x in numbers:\n",
    "    if x == 237:\n",
    "        print(x)  # Print the number if it's 237.\n",
    "        break  # Exit the loop if 237 is found.\n",
    "    elif x % 2 == 0:\n",
    "        print(x)  # Print the number if it's even."
   ]
  },
  {
   "cell_type": "code",
   "execution_count": null,
   "id": "4704d030-8510-435b-84af-791c340754ad",
   "metadata": {},
   "outputs": [],
   "source": [
    "# Q.29 Write a  Python program that prints out all colors from color_list_1 that are not present in color_list_2."
   ]
  },
  {
   "cell_type": "code",
   "execution_count": null,
   "id": "67ad5f43-9942-49cb-9365-360d1b6dcf17",
   "metadata": {},
   "outputs": [],
   "source": [
    "# Create two sets, color_list_1 and color_list_2.\n",
    "color_list_1 = set([\"White\", \"Black\", \"Red\"])\n",
    "color_list_2 = set([\"Red\", \"Green\"])\n",
    "\n",
    "# Print the original elements of the sets.\n",
    "print(\"Original set elements:\")\n",
    "print(color_list_1)\n",
    "print(color_list_2)\n",
    "\n",
    "# Calculate and print the difference of color_list_1 and color_list_2.\n",
    "print(\"\\nDifference of color_list_1 and color_list_2:\")\n",
    "print(color_list_1.difference(color_list_2))\n",
    "\n",
    "# Calculate and print the difference of color_list_2 and color_list_1.\n",
    "print(\"\\nDifference of color_list_2 and color_list_1:\")\n",
    "print(color_list_2.difference(color_list_1))"
   ]
  },
  {
   "cell_type": "code",
   "execution_count": null,
   "id": "210ac6c6-6f36-43f7-907e-728d8993a80a",
   "metadata": {},
   "outputs": [],
   "source": [
    "# Q.30 Write a  Python program that will accept the base and height of a triangle and compute its area."
   ]
  },
  {
   "cell_type": "code",
   "execution_count": null,
   "id": "fc5d6186-5a71-4174-b4f7-ef7a2d03e72e",
   "metadata": {},
   "outputs": [],
   "source": []
  }
 ],
 "metadata": {
  "kernelspec": {
   "display_name": "Python 3 (ipykernel)",
   "language": "python",
   "name": "python3"
  },
  "language_info": {
   "codemirror_mode": {
    "name": "ipython",
    "version": 3
   },
   "file_extension": ".py",
   "mimetype": "text/x-python",
   "name": "python",
   "nbconvert_exporter": "python",
   "pygments_lexer": "ipython3",
   "version": "3.11.7"
  }
 },
 "nbformat": 4,
 "nbformat_minor": 5
}
