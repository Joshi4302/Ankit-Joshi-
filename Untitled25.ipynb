{
 "cells": [
  {
   "cell_type": "code",
   "execution_count": null,
   "id": "e98de196-fd47-4f43-ad34-d2dcd61c6485",
   "metadata": {},
   "outputs": [],
   "source": [
    "# frozen set\n",
    "# - FOLLOW THE PROPERTIES OF SET"
   ]
  },
  {
   "cell_type": "code",
   "execution_count": null,
   "id": "f1ad89be-ed02-4904-b549-0a4546d1ab0f",
   "metadata": {},
   "outputs": [],
   "source": [
    "# METHODS PF FROZEN SET"
   ]
  },
  {
   "cell_type": "code",
   "execution_count": 3,
   "id": "b68734bc-e59e-4dee-a49c-4b7bae199fad",
   "metadata": {},
   "outputs": [
    {
     "data": {
      "text/plain": [
       "frozenset"
      ]
     },
     "execution_count": 3,
     "metadata": {},
     "output_type": "execute_result"
    }
   ],
   "source": [
    "s1 = frozenset({1,2,3,4,5,6,7})\n",
    "type(s1)"
   ]
  },
  {
   "cell_type": "code",
   "execution_count": 6,
   "id": "20cca0fc-fd20-4c3c-ae92-97edc55894b4",
   "metadata": {},
   "outputs": [
    {
     "name": "stdout",
     "output_type": "stream",
     "text": [
      "frozenset({1, 2, 3, 4, 5})\n"
     ]
    }
   ],
   "source": [
    "s1 = frozenset ([1,2,3,4,5])\n",
    "s2 = s1.copy()\n",
    "print(s2)"
   ]
  },
  {
   "cell_type": "code",
   "execution_count": 7,
   "id": "073f2092-1961-4b3c-a6de-c0b3ac2df7d3",
   "metadata": {},
   "outputs": [
    {
     "data": {
      "text/plain": [
       "frozenset()"
      ]
     },
     "execution_count": 7,
     "metadata": {},
     "output_type": "execute_result"
    }
   ],
   "source": [
    "s2-s1"
   ]
  },
  {
   "cell_type": "code",
   "execution_count": 11,
   "id": "91764819-0aa0-4b11-b5f5-65850f9113f4",
   "metadata": {},
   "outputs": [
    {
     "data": {
      "text/plain": [
       "set()"
      ]
     },
     "execution_count": 11,
     "metadata": {},
     "output_type": "execute_result"
    }
   ],
   "source": [
    "s2 = ({1,2,3,4,5})\n",
    "a = ({1,2,3,4,5,6,7,56})\n",
    "s2.difference(a)"
   ]
  },
  {
   "cell_type": "code",
   "execution_count": 12,
   "id": "31818377-cfbc-405b-aa21-f2044336aba1",
   "metadata": {},
   "outputs": [
    {
     "data": {
      "text/plain": [
       "{6, 7, 56}"
      ]
     },
     "execution_count": 12,
     "metadata": {},
     "output_type": "execute_result"
    }
   ],
   "source": [
    "a.difference(s2)"
   ]
  },
  {
   "cell_type": "code",
   "execution_count": 13,
   "id": "04346ea1-e823-434d-a3ba-065104dacedd",
   "metadata": {},
   "outputs": [
    {
     "data": {
      "text/plain": [
       "{1, 2, 3, 4, 5}"
      ]
     },
     "execution_count": 13,
     "metadata": {},
     "output_type": "execute_result"
    }
   ],
   "source": [
    "a.intersection(s2)"
   ]
  },
  {
   "cell_type": "code",
   "execution_count": 14,
   "id": "35845961-de92-48fb-baa7-e407d85639f0",
   "metadata": {},
   "outputs": [
    {
     "data": {
      "text/plain": [
       "{1, 2, 3, 4, 5}"
      ]
     },
     "execution_count": 14,
     "metadata": {},
     "output_type": "execute_result"
    }
   ],
   "source": [
    "s2.intersection(a)"
   ]
  },
  {
   "cell_type": "code",
   "execution_count": 16,
   "id": "7c3a8440-cf8b-4538-b5c3-a8f1ae31d1e0",
   "metadata": {},
   "outputs": [
    {
     "data": {
      "text/plain": [
       "{6, 7, 56}"
      ]
     },
     "execution_count": 16,
     "metadata": {},
     "output_type": "execute_result"
    }
   ],
   "source": [
    "a.symmetric_difference(s2)"
   ]
  },
  {
   "cell_type": "code",
   "execution_count": 17,
   "id": "a5024b05-add9-4424-84d8-1d9278d0b11e",
   "metadata": {},
   "outputs": [
    {
     "data": {
      "text/plain": [
       "set()"
      ]
     },
     "execution_count": 17,
     "metadata": {},
     "output_type": "execute_result"
    }
   ],
   "source": [
    "s2.symmetric_difference(s1)"
   ]
  },
  {
   "cell_type": "code",
   "execution_count": 18,
   "id": "404bb77c-bde2-474f-8cef-d2490b52f81d",
   "metadata": {},
   "outputs": [
    {
     "data": {
      "text/plain": [
       "{1, 2, 3, 4, 5, 6, 7, 56}"
      ]
     },
     "execution_count": 18,
     "metadata": {},
     "output_type": "execute_result"
    }
   ],
   "source": [
    "s2.union(a)"
   ]
  },
  {
   "cell_type": "code",
   "execution_count": 19,
   "id": "42f0161d-b3c4-41d6-beb9-0b6ffcbca601",
   "metadata": {},
   "outputs": [
    {
     "data": {
      "text/plain": [
       "{1, 2, 3, 4, 5, 6, 7, 56}"
      ]
     },
     "execution_count": 19,
     "metadata": {},
     "output_type": "execute_result"
    }
   ],
   "source": [
    "a.union(s2)"
   ]
  },
  {
   "cell_type": "code",
   "execution_count": 20,
   "id": "2edd2b32-749b-4e79-a956-19fc773be577",
   "metadata": {},
   "outputs": [
    {
     "data": {
      "text/plain": [
       "True"
      ]
     },
     "execution_count": 20,
     "metadata": {},
     "output_type": "execute_result"
    }
   ],
   "source": [
    "s2.issubset(a)"
   ]
  },
  {
   "cell_type": "code",
   "execution_count": 21,
   "id": "c842aee7-d846-4310-9d1f-a89d3e787f9d",
   "metadata": {},
   "outputs": [
    {
     "data": {
      "text/plain": [
       "False"
      ]
     },
     "execution_count": 21,
     "metadata": {},
     "output_type": "execute_result"
    }
   ],
   "source": [
    "a.issubset(s2)"
   ]
  },
  {
   "cell_type": "code",
   "execution_count": 23,
   "id": "9a96e46c-1ed5-4c03-843a-da04093a142a",
   "metadata": {},
   "outputs": [
    {
     "data": {
      "text/plain": [
       "True"
      ]
     },
     "execution_count": 23,
     "metadata": {},
     "output_type": "execute_result"
    }
   ],
   "source": [
    "a.issuperset(s2)"
   ]
  },
  {
   "cell_type": "code",
   "execution_count": 24,
   "id": "2518a44b-4cd0-4b04-8dc8-3a5af29fb476",
   "metadata": {},
   "outputs": [
    {
     "data": {
      "text/plain": [
       "False"
      ]
     },
     "execution_count": 24,
     "metadata": {},
     "output_type": "execute_result"
    }
   ],
   "source": [
    "s2.issuperset(a)"
   ]
  },
  {
   "cell_type": "code",
   "execution_count": 25,
   "id": "aecf331c-42b4-44f9-92f5-72470e2003fd",
   "metadata": {},
   "outputs": [
    {
     "data": {
      "text/plain": [
       "False"
      ]
     },
     "execution_count": 25,
     "metadata": {},
     "output_type": "execute_result"
    }
   ],
   "source": [
    "a.isdisjoint(s2)"
   ]
  },
  {
   "cell_type": "code",
   "execution_count": 26,
   "id": "39a6ebef-49cf-47af-b5b0-b82536caa4db",
   "metadata": {},
   "outputs": [
    {
     "data": {
      "text/plain": [
       "False"
      ]
     },
     "execution_count": 26,
     "metadata": {},
     "output_type": "execute_result"
    }
   ],
   "source": [
    "s2.isdisjoint(a)"
   ]
  },
  {
   "cell_type": "code",
   "execution_count": null,
   "id": "bb007163-584e-4c92-9846-e760533c83ce",
   "metadata": {},
   "outputs": [],
   "source": []
  }
 ],
 "metadata": {
  "kernelspec": {
   "display_name": "Python 3 (ipykernel)",
   "language": "python",
   "name": "python3"
  },
  "language_info": {
   "codemirror_mode": {
    "name": "ipython",
    "version": 3
   },
   "file_extension": ".py",
   "mimetype": "text/x-python",
   "name": "python",
   "nbconvert_exporter": "python",
   "pygments_lexer": "ipython3",
   "version": "3.11.7"
  }
 },
 "nbformat": 4,
 "nbformat_minor": 5
}
