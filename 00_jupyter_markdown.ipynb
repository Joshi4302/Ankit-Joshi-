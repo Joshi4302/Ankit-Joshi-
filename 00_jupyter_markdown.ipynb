{
 "cells": [
  {
   "cell_type": "markdown",
   "id": "fdedbf59-e595-4386-bf55-b7e1f6262f35",
   "metadata": {},
   "source": [
    "# Heading 1\n",
    "## Heading 2\n",
    "### Heading 3\n",
    "#### Heading 4\n",
    "##### Heading 5\n",
    "###### Heading 6\n"
   ]
  },
  {
   "cell_type": "markdown",
   "id": "666e11ae-93a9-42a9-a0f6-fc2459ad3d83",
   "metadata": {},
   "source": [
    "*Italic text*\n",
    "\n",
    "**Bold text**\n",
    "\n",
    "***Bold and italic text***\n",
    "\n",
    "~~Strikethrough text~~"
   ]
  },
  {
   "cell_type": "markdown",
   "id": "5377320c-1c73-4a26-bd0f-42c941a5706b",
   "metadata": {},
   "source": [
    "- Item 1\n",
    "- Item 2\n",
    "  - Subitem 1\n",
    "  - Subitem 2"
   ]
  },
  {
   "cell_type": "markdown",
   "id": "a0bfe96e-ba2b-44f6-9d5a-d4c92a4f43b7",
   "metadata": {},
   "source": [
    "1. Item 1\n",
    "2. Item 2\n",
    "   1. Subitem 1\n",
    "   2. Subitem 2"
   ]
  },
  {
   "cell_type": "markdown",
   "id": "32725fce-27e5-4604-8d33-1eb26c959278",
   "metadata": {},
   "source": [
    "---\n"
   ]
  },
  {
   "cell_type": "code",
   "execution_count": null,
   "id": "7341c396",
   "metadata": {
    "vscode": {
     "languageId": "plaintext"
    }
   },
   "outputs": [],
   "source": [
    "Create a new cell in this Jupyter Notebook.\n",
    "Set it as a markdown cell.\n",
    "Add a title (i.e. a header) to your cell.\n",
    "Write your favorite quote, possibly with some formatting (e.g. some words in bold).\n",
    "Add the author's name in italic.\n",
    "Run/render the cell.\n",
    "\n",
    "# My Favorite Quote\n",
    "\n",
    "*\"First deserve then desire.\"*\n",
    "\n",
    "ankit joshi"
   ]
  },
  {
   "cell_type": "markdown",
   "id": "8c538fb6-e3fe-4c35-ba4f-c8604f79697b",
   "metadata": {},
   "source": [
    "```python\n",
    "def hello_world():\n",
    "    print(\"Hello, world!\")\n"
   ]
  },
  {
   "cell_type": "markdown",
   "id": "75e28a2a-53da-4ccc-8b0e-bd607b033ef2",
   "metadata": {},
   "source": [
    "\n",
    "#### Inline Code\n",
    "```markdown\n",
    "Use `print()` function to display output.\n"
   ]
  },
  {
   "cell_type": "markdown",
   "id": "4039fbbf-84e6-42fc-aa09-cd6d2ba11579",
   "metadata": {},
   "source": [
    "| Header 1 | Header 2 | Header 3 |\n",
    "|----------|----------|----------|\n",
    "| Row 1    | Column 2 | Column 3 |\n",
    "| Row 2    | Column 2 | Column 3 |\n"
   ]
  },
  {
   "cell_type": "markdown",
   "id": "9d9b822d-1aa8-4cc8-b462-79fef496d62a",
   "metadata": {},
   "source": [
    "<div style=\"color: red;\">This is a red text.</div>\n"
   ]
  }
 ],
 "metadata": {
  "kernelspec": {
   "display_name": "Python 3 (ipykernel)",
   "language": "python",
   "name": "python3"
  },
  "language_info": {
   "codemirror_mode": {
    "name": "ipython",
    "version": 3
   },
   "file_extension": ".py",
   "mimetype": "text/x-python",
   "name": "python",
   "nbconvert_exporter": "python",
   "pygments_lexer": "ipython3",
   "version": "3.11.7"
  }
 },
 "nbformat": 4,
 "nbformat_minor": 5
}
