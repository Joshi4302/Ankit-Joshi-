{
 "cells": [
  {
   "cell_type": "code",
   "execution_count": null,
   "id": "e707ccb2-f3c1-4f3d-8188-aec068d1629d",
   "metadata": {},
   "outputs": [],
   "source": [
    "# Q.31  Write a Python program that computes the greatest common divisor (GCD) of two positive integers."
   ]
  },
  {
   "cell_type": "code",
   "execution_count": 1,
   "id": "8b84ac68-f97d-474c-8c5e-e1b9b2e5819e",
   "metadata": {},
   "outputs": [
    {
     "name": "stdout",
     "output_type": "stream",
     "text": [
      "GCD of 12 & 17 = 1\n",
      "GCD of 4 & 6 = 2\n",
      "GCD of 336 & 360 = 24\n"
     ]
    }
   ],
   "source": [
    "# Define a function to calculate the greatest common divisor (GCD) of two numbers.\n",
    "def gcd(x, y):\n",
    "    # Initialize gcd to 1.\n",
    "    gcd = 1\n",
    "    \n",
    "    # Check if y is a divisor of x (x is divisible by y).\n",
    "    if x % y == 0:\n",
    "        return y\n",
    "    \n",
    "    # Iterate from half of y down to 1.\n",
    "    for k in range(int(y / 2), 0, -1):\n",
    "        # Check if both x and y are divisible by k.\n",
    "        if x % k == 0 and y % k == 0:\n",
    "            # Update the GCD to the current value of k and exit the loop.\n",
    "            gcd = k\n",
    "            break\n",
    "    \n",
    "    # Return the calculated GCD.\n",
    "    return gcd\n",
    "\n",
    "# Print the GCD of specific pairs of numbers.\n",
    "print(\"GCD of 12 & 17 =\", gcd(12, 17))\n",
    "print(\"GCD of 4 & 6 =\", gcd(4, 6))\n",
    "print(\"GCD of 336 & 360 =\", gcd(336, 360))"
   ]
  },
  {
   "cell_type": "code",
   "execution_count": null,
   "id": "dc9268ea-dea6-494b-95aa-282b1ebfd3c9",
   "metadata": {},
   "outputs": [],
   "source": [
    "# Q.32 Write a Python program to find the least common multiple (LCM) of two positive integers."
   ]
  },
  {
   "cell_type": "code",
   "execution_count": 2,
   "id": "fc95e785-f4c2-48d1-b0d9-88ae91ed4638",
   "metadata": {},
   "outputs": [
    {
     "name": "stdout",
     "output_type": "stream",
     "text": [
      "12\n",
      "255\n"
     ]
    }
   ],
   "source": [
    "# Define a function 'lcm' that calculates the least common multiple (LCM) of two numbers, 'x' and 'y'.\n",
    "def lcm(x, y):\n",
    "    # Compare 'x' and 'y' to determine the larger number and store it in 'z'.\n",
    "    if x > y:\n",
    "        z = x\n",
    "    else:\n",
    "        z = y\n",
    "    \n",
    "    # Use a 'while' loop to find the LCM.\n",
    "    while True:\n",
    "        # Check if 'z' is divisible by both 'x' and 'y' with no remainder.\n",
    "        if (z % x == 0) and (z % y == 0):\n",
    "            # If both conditions are met, 'z' is the LCM, so store it in 'lcm' and break the loop.\n",
    "            lcm = z\n",
    "            break\n",
    "        # If the conditions are not met, increment 'z' and continue checking.\n",
    "        z += 1\n",
    "    \n",
    "    # Return the calculated LCM.\n",
    "    return lcm\n",
    "\n",
    "# Calculate and print the LCM of 4 and 6.\n",
    "print(lcm(4, 6))\n",
    "# Calculate and print the LCM of 15 and 17.\n",
    "print(lcm(15, 17))"
   ]
  },
  {
   "cell_type": "code",
   "execution_count": null,
   "id": "07e1e29f-6460-4861-a046-aa55c011c806",
   "metadata": {},
   "outputs": [],
   "source": [
    " # Q.33 Write a Python program to sum three given integers. However, if two values are equal, the sum will be zero."
   ]
  },
  {
   "cell_type": "code",
   "execution_count": 3,
   "id": "c5ca406d-1bdc-462f-b255-126d523015ed",
   "metadata": {},
   "outputs": [
    {
     "name": "stdout",
     "output_type": "stream",
     "text": [
      "0\n",
      "0\n",
      "0\n",
      "6\n"
     ]
    }
   ],
   "source": [
    "# Define a function 'sum_three' that takes three integer inputs: x, y, and z.\n",
    "def sum_three(x, y, z):\n",
    "    # Check if any of the two input values are equal. If so, set 'sum' to 0.\n",
    "    if x == y or y == z or x == z:\n",
    "        sum = 0\n",
    "    else:\n",
    "        # If all three input values are distinct, calculate the sum of x, y, and z.\n",
    "        sum = x + y + z\n",
    "    # Return the calculated sum.\n",
    "    return sum\n",
    "\n",
    "# Test the 'sum_three' function with different sets of input values and print the results.\n",
    "print(sum_three(2, 1, 2))\n",
    "print(sum_three(3, 2, 2))\n",
    "print(sum_three(2, 2, 2))\n",
    "print(sum_three(1, 2, 3))"
   ]
  },
  {
   "cell_type": "code",
   "execution_count": null,
   "id": "46eeb4e0-f59e-4ef4-bc13-187340c77f86",
   "metadata": {},
   "outputs": [],
   "source": [
    "# Q.34 Write a Python program to sum two given integers. However, if the sum is between 15 and 20 it will return 20."
   ]
  },
  {
   "cell_type": "code",
   "execution_count": 4,
   "id": "a3dd3e74-6033-49c3-bf9f-527ff8a357d7",
   "metadata": {},
   "outputs": [
    {
     "name": "stdout",
     "output_type": "stream",
     "text": [
      "20\n",
      "12\n",
      "22\n"
     ]
    }
   ],
   "source": [
    "# Define a function 'sum' that takes two integer inputs: x and y.\n",
    "def sum(x, y):\n",
    "    # Calculate the sum of x and y and store it in the 'sum' variable.\n",
    "    sum = x + y\n",
    "    # Check if the calculated sum is within the range [15, 20) (inclusive on 15, exclusive on 20).\n",
    "    if sum in range(15, 20):\n",
    "        # If the sum is within the range, return 20.\n",
    "        return 20\n",
    "    else:\n",
    "        # If the sum is outside the range, return the calculated sum.\n",
    "        return sum\n",
    "\n",
    "# Test the 'sum' function with different sets of input values and print the results.\n",
    "print(sum(10, 6))\n",
    "print(sum(10, 2))\n",
    "print(sum(10, 12))"
   ]
  },
  {
   "cell_type": "code",
   "execution_count": null,
   "id": "77b04c64-1cd0-4f9e-92c1-d5b758552b6d",
   "metadata": {},
   "outputs": [],
   "source": [
    "# Q.35 Write a Python program that returns true if the two given integer values are equal or their sum or difference is 5."
   ]
  },
  {
   "cell_type": "code",
   "execution_count": 5,
   "id": "627bfe4f-88a3-4d8a-ac45-5f081718a636",
   "metadata": {},
   "outputs": [
    {
     "name": "stdout",
     "output_type": "stream",
     "text": [
      "True\n",
      "True\n",
      "True\n",
      "False\n",
      "False\n"
     ]
    }
   ],
   "source": [
    "# Define a function 'test_number5' that takes two integer inputs: x and y.\n",
    "def test_number5(x, y):\n",
    "    # Check if any of the following conditions are met:\n",
    "    # 1. x is equal to y.\n",
    "    # 2. The absolute difference between x and y is equal to 5.\n",
    "    # 3. The sum of x and y is equal to 5.\n",
    "    if x == y or abs(x - y) == 5 or (x + y) == 5:\n",
    "        # If any of the conditions are met, return True.\n",
    "        return True\n",
    "    else:\n",
    "        # If none of the conditions are met, return False.\n",
    "        return False\n",
    "\n",
    "# Test the 'test_number5' function with different sets of input values and print the results.\n",
    "print(test_number5(7, 2))\n",
    "print(test_number5(3, 2))\n",
    "print(test_number5(2, 2))\n",
    "print(test_number5(7, 3))\n",
    "print(test_number5(27, 53))"
   ]
  },
  {
   "cell_type": "code",
   "execution_count": null,
   "id": "f7332d8d-0c88-4faa-8b92-8afe35c8aabf",
   "metadata": {},
   "outputs": [],
   "source": [
    "# Q.36 Write a Python program to add two objects if both objects are integers."
   ]
  },
  {
   "cell_type": "code",
   "execution_count": 7,
   "id": "91f7e472-20da-4f13-902d-b07d4b1fe265",
   "metadata": {},
   "outputs": [
    {
     "name": "stdout",
     "output_type": "stream",
     "text": [
      "30\n",
      "Inputs must be integers!\n",
      "Inputs must be integers!\n",
      "Inputs must be integers!\n"
     ]
    }
   ],
   "source": [
    "# Define a function 'add_numbers' that takes two arguments: a and b.\n",
    "def add_numbers(a, b):\n",
    "    # Check if both 'a' and 'b' are integers using the 'isinstance' function.\n",
    "    if not (isinstance(a, int) and isinstance(b, int)):\n",
    "        # If either 'a' or 'b' is not an integer, return an error message.\n",
    "        return \"Inputs must be integers!\"\n",
    "    # If both 'a' and 'b' are integers, return their sum.\n",
    "    return a + b\n",
    "\n",
    "# Test the 'add_numbers' function with various input values and print the results.\n",
    "print(add_numbers(10, 20))     # Valid: Both inputs are integers, and it returns the sum.\n",
    "print(add_numbers(10, 20.23))  # Invalid: One of the inputs is a float, so it returns an error message.\n",
    "print(add_numbers('5', 6))     # Invalid: One of the inputs is a string, so it returns an error message.\n",
    "print(add_numbers('5', '6'))   # Invalid: Both inputs are strings, so it returns an error message.\n"
   ]
  },
  {
   "cell_type": "code",
   "execution_count": null,
   "id": "24b2f452-a24e-4566-bad4-a92947d1eb8d",
   "metadata": {},
   "outputs": [],
   "source": [
    "# Q.37 Write a Python program that displays your name, age, and address on three different lines"
   ]
  },
  {
   "cell_type": "code",
   "execution_count": null,
   "id": "e77b4f07-34a7-4468-bbed-af78832cefe5",
   "metadata": {},
   "outputs": [],
   "source": [
    "# Define a function 'personal_details'.\n",
    "def personal_details():\n",
    "    # Define variables 'name' and 'age' and assign values to them.\n",
    "    name, age = \"Simon\", 19\n",
    "    # Define a variable 'address' and assign a value to it.\n",
    "    address = \"Bangalore, Karnataka, India\"\n",
    "    # Print the personal details using string formatting.\n",
    "    print(\"Name: {}\\nAge: {}\\nAddress: {}\".format(name, age, address))\n",
    "\n",
    "# Call the 'personal_details' function to display the details.\n",
    "personal_details()\n"
   ]
  },
  {
   "cell_type": "code",
   "execution_count": null,
   "id": "a0dc6b43-73a2-4dde-85d7-f3ac83e97fed",
   "metadata": {},
   "outputs": [],
   "source": [
    "# Q.38 Write a Python program to solve (x + y) * (x + y).\n",
    "Test Data : x = 4, y = 3"
   ]
  },
  {
   "cell_type": "code",
   "execution_count": 8,
   "id": "00072fee-7061-47ef-b7c0-580a34dbe715",
   "metadata": {},
   "outputs": [
    {
     "name": "stdout",
     "output_type": "stream",
     "text": [
      "(4 + 3) ^ 2) = 49\n"
     ]
    }
   ],
   "source": [
    "# Define variables 'x' and 'y' and assign values to them.\n",
    "x, y = 4, 3\n",
    "# Calculate the result by squaring the sum of 'x' and 'y'.\n",
    "result = x * x + 2 * x * y + y * y\n",
    "# Print the result with a formatted message.\n",
    "print(\"({} + {}) ^ 2) = {}\".format(x, y, result))"
   ]
  },
  {
   "cell_type": "code",
   "execution_count": null,
   "id": "08602861-a55e-4732-baaa-9c9e727a4148",
   "metadata": {},
   "outputs": [],
   "source": [
    " Write a Python program to compute the future value of a specified principal amount, rate of interest, and number of years.\n",
    "Test Data : amt = 10000, int = 3.5, years = 7"
   ]
  },
  {
   "cell_type": "code",
   "execution_count": null,
   "id": "32936c69-f13c-4248-bd04-efbcc20a4167",
   "metadata": {},
   "outputs": [],
   "source": [
    "# Define the principal amount (initial investment).\n",
    "amt = 10000\n",
    "# Define the annual interest rate as a percentage.\n",
    "int = 3.5\n",
    "# Define the number of years.\n",
    "years = 7\n",
    "# Calculate the future value of the investment using the compound interest formula.\n",
    "future_value = amt * ((1 + (0.01 * int)) ** years)\n",
    "# Round the future value to two decimal places and print it.\n",
    "print(round(future_value, 2))"
   ]
  },
  {
   "cell_type": "code",
   "execution_count": null,
   "id": "7962dbd1-c89b-4bc7-b59b-652e7c57573f",
   "metadata": {},
   "outputs": [],
   "source": [
    " Write a Python program to calculate the distance between the points (x1, y1) and (x2, y2)."
   ]
  },
  {
   "cell_type": "code",
   "execution_count": null,
   "id": "ea900475-53fe-4660-84fe-3248d79e95ec",
   "metadata": {},
   "outputs": [],
   "source": [
    "# Import the math module to use the square root function.\n",
    "import math\n",
    "\n",
    "# Define the coordinates of the first point (p1) as a list.\n",
    "p1 = [4, 0]\n",
    "\n",
    "# Define the coordinates of the second point (p2) as a list.\n",
    "p2 = [6, 6]\n",
    "\n",
    "# Calculate the distance between the two points using the distance formula.\n",
    "# The formula computes the Euclidean distance in a 2D space.\n",
    "distance = math.sqrt(((p1[0] - p2[0]) ** 2) + ((p1[1] - p2[1]) ** 2))\n",
    "\n",
    "# Print the calculated distance.\n",
    "print(distance)"
   ]
  }
 ],
 "metadata": {
  "kernelspec": {
   "display_name": "Python 3 (ipykernel)",
   "language": "python",
   "name": "python3"
  },
  "language_info": {
   "codemirror_mode": {
    "name": "ipython",
    "version": 3
   },
   "file_extension": ".py",
   "mimetype": "text/x-python",
   "name": "python",
   "nbconvert_exporter": "python",
   "pygments_lexer": "ipython3",
   "version": "3.11.7"
  }
 },
 "nbformat": 4,
 "nbformat_minor": 5
}
